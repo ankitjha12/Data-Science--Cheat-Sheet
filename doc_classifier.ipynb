{
  "nbformat": 4,
  "nbformat_minor": 0,
  "metadata": {
    "colab": {
      "name": "doc_classifier.ipynb",
      "version": "0.3.2",
      "provenance": [],
      "collapsed_sections": []
    },
    "kernelspec": {
      "name": "python3",
      "display_name": "Python 3"
    },
    "accelerator": "TPU"
  },
  "cells": [
    {
      "cell_type": "code",
      "metadata": {
        "id": "uFP9MEidF0qq",
        "colab_type": "code",
        "outputId": "c3929940-6089-4035-da5d-c6550e9934c1",
        "colab": {
          "base_uri": "https://localhost:8080/",
          "height": 692
        }
      },
      "source": [
        "!sudo apt install tesseract-ocr"
      ],
      "execution_count": 0,
      "outputs": [
        {
          "output_type": "stream",
          "text": [
            "Reading package lists... Done\n",
            "Building dependency tree       \n",
            "Reading state information... Done\n",
            "The following package was automatically installed and is no longer required:\n",
            "  libnvidia-common-410\n",
            "Use 'sudo apt autoremove' to remove it.\n",
            "The following additional packages will be installed:\n",
            "  tesseract-ocr-eng tesseract-ocr-osd\n",
            "The following NEW packages will be installed:\n",
            "  tesseract-ocr tesseract-ocr-eng tesseract-ocr-osd\n",
            "0 upgraded, 3 newly installed, 0 to remove and 4 not upgraded.\n",
            "Need to get 4,795 kB of archives.\n",
            "After this operation, 15.8 MB of additional disk space will be used.\n",
            "Get:1 http://archive.ubuntu.com/ubuntu bionic/universe amd64 tesseract-ocr-eng all 4.00~git24-0e00fe6-1.2 [1,588 kB]\n",
            "Get:2 http://archive.ubuntu.com/ubuntu bionic/universe amd64 tesseract-ocr-osd all 4.00~git24-0e00fe6-1.2 [2,989 kB]\n",
            "Get:3 http://archive.ubuntu.com/ubuntu bionic/universe amd64 tesseract-ocr amd64 4.00~git2288-10f4998a-2 [218 kB]\n",
            "Fetched 4,795 kB in 2s (3,035 kB/s)\n",
            "debconf: unable to initialize frontend: Dialog\n",
            "debconf: (No usable dialog-like program is installed, so the dialog based frontend cannot be used. at /usr/share/perl5/Debconf/FrontEnd/Dialog.pm line 76, <> line 3.)\n",
            "debconf: falling back to frontend: Readline\n",
            "debconf: unable to initialize frontend: Readline\n",
            "debconf: (This frontend requires a controlling tty.)\n",
            "debconf: falling back to frontend: Teletype\n",
            "dpkg-preconfigure: unable to re-open stdin: \n",
            "Selecting previously unselected package tesseract-ocr-eng.\n",
            "(Reading database ... 131289 files and directories currently installed.)\n",
            "Preparing to unpack .../tesseract-ocr-eng_4.00~git24-0e00fe6-1.2_all.deb ...\n",
            "Unpacking tesseract-ocr-eng (4.00~git24-0e00fe6-1.2) ...\n",
            "Selecting previously unselected package tesseract-ocr-osd.\n",
            "Preparing to unpack .../tesseract-ocr-osd_4.00~git24-0e00fe6-1.2_all.deb ...\n",
            "Unpacking tesseract-ocr-osd (4.00~git24-0e00fe6-1.2) ...\n",
            "Selecting previously unselected package tesseract-ocr.\n",
            "Preparing to unpack .../tesseract-ocr_4.00~git2288-10f4998a-2_amd64.deb ...\n",
            "Unpacking tesseract-ocr (4.00~git2288-10f4998a-2) ...\n",
            "Setting up tesseract-ocr-osd (4.00~git24-0e00fe6-1.2) ...\n",
            "Setting up tesseract-ocr-eng (4.00~git24-0e00fe6-1.2) ...\n",
            "Processing triggers for man-db (2.8.3-2ubuntu0.1) ...\n",
            "Setting up tesseract-ocr (4.00~git2288-10f4998a-2) ...\n"
          ],
          "name": "stdout"
        }
      ]
    },
    {
      "cell_type": "code",
      "metadata": {
        "id": "AP2Su2WIIM_z",
        "colab_type": "code",
        "outputId": "d4db61a0-baf3-4f97-b6f7-4019e8d710ea",
        "colab": {
          "base_uri": "https://localhost:8080/",
          "height": 230
        }
      },
      "source": [
        "!pip install pytesseract"
      ],
      "execution_count": 0,
      "outputs": [
        {
          "output_type": "stream",
          "text": [
            "Collecting pytesseract\n",
            "\u001b[?25l  Downloading https://files.pythonhosted.org/packages/1d/40/3f72d13d0f347bf688ff189b6d6bb369125c0bed9ed4b15e7f20c65123a8/pytesseract-0.2.7.tar.gz (169kB)\n",
            "\u001b[K     |████████████████████████████████| 174kB 1.4MB/s \n",
            "\u001b[?25hRequirement already satisfied: Pillow in /usr/local/lib/python3.6/dist-packages (from pytesseract) (4.3.0)\n",
            "Requirement already satisfied: olefile in /usr/local/lib/python3.6/dist-packages (from Pillow->pytesseract) (0.46)\n",
            "Building wheels for collected packages: pytesseract\n",
            "  Building wheel for pytesseract (setup.py) ... \u001b[?25l\u001b[?25hdone\n",
            "  Created wheel for pytesseract: filename=pytesseract-0.2.7-py2.py3-none-any.whl size=165734 sha256=47725724b7106cf6f38bf898e72feffad1dc113e336b9dc8d2213a657ca4f45d\n",
            "  Stored in directory: /root/.cache/pip/wheels/cd/4a/30/998e01b892300ba0ccce7b806b6e889794605a384dac81a49a\n",
            "Successfully built pytesseract\n",
            "Installing collected packages: pytesseract\n",
            "Successfully installed pytesseract-0.2.7\n"
          ],
          "name": "stdout"
        }
      ]
    },
    {
      "cell_type": "code",
      "metadata": {
        "id": "kg81jbocdSZf",
        "colab_type": "code",
        "outputId": "e67f2fc5-67f3-4dbb-b8d2-1b5f705cffa1",
        "colab": {
          "base_uri": "https://localhost:8080/",
          "height": 35
        }
      },
      "source": [
        "ls"
      ],
      "execution_count": 0,
      "outputs": [
        {
          "output_type": "stream",
          "text": [
            "\u001b[0m\u001b[01;34msample_data\u001b[0m/\n"
          ],
          "name": "stdout"
        }
      ]
    },
    {
      "cell_type": "code",
      "metadata": {
        "id": "JHHeGwxjZVze",
        "colab_type": "code",
        "colab": {}
      },
      "source": [
        "import numpy as np\n",
        "import shutil\n",
        "import os \n",
        "import cv2\n",
        "import argparse\n",
        "import time\n",
        "import pytesseract\n",
        "from PIL import Image\n",
        "from imutils.object_detection import non_max_suppression"
      ],
      "execution_count": 0,
      "outputs": []
    },
    {
      "cell_type": "code",
      "metadata": {
        "id": "GyZ_cA4M0eG8",
        "colab_type": "code",
        "outputId": "4c9f1504-24d7-42e5-ba84-841911163e28",
        "colab": {
          "base_uri": "https://localhost:8080/",
          "height": 126
        }
      },
      "source": [
        "from google.colab import drive\n",
        "drive.mount('/content/drive')\n"
      ],
      "execution_count": 0,
      "outputs": [
        {
          "output_type": "stream",
          "text": [
            "Go to this URL in a browser: https://accounts.google.com/o/oauth2/auth?client_id=947318989803-6bn6qk8qdgf4n4g3pfee6491hc0brc4i.apps.googleusercontent.com&redirect_uri=urn%3Aietf%3Awg%3Aoauth%3A2.0%3Aoob&scope=email%20https%3A%2F%2Fwww.googleapis.com%2Fauth%2Fdocs.test%20https%3A%2F%2Fwww.googleapis.com%2Fauth%2Fdrive%20https%3A%2F%2Fwww.googleapis.com%2Fauth%2Fdrive.photos.readonly%20https%3A%2F%2Fwww.googleapis.com%2Fauth%2Fpeopleapi.readonly&response_type=code\n",
            "\n",
            "Enter your authorization code:\n",
            "··········\n",
            "Mounted at /content/drive\n"
          ],
          "name": "stdout"
        }
      ]
    },
    {
      "cell_type": "code",
      "metadata": {
        "id": "rg7_8Aw3ZdFP",
        "colab_type": "code",
        "outputId": "c5487806-5ab2-432c-b782-d5de3f48c0cc",
        "colab": {
          "base_uri": "https://localhost:8080/",
          "height": 35
        }
      },
      "source": [
        "cd /content/drive/My Drive/data\n"
      ],
      "execution_count": 0,
      "outputs": [
        {
          "output_type": "stream",
          "text": [
            "/content/drive/My Drive/data\n"
          ],
          "name": "stdout"
        }
      ]
    },
    {
      "cell_type": "code",
      "metadata": {
        "id": "02yG5IqEiVW0",
        "colab_type": "code",
        "colab": {}
      },
      "source": [
        "\n",
        "net = cv2.dnn.readNet('frozen_east_text_detection.pb')\n",
        "ls\n",
        "\n",
        "Statement Of Fact.jpg"
      ],
      "execution_count": 0,
      "outputs": []
    },
    {
      "cell_type": "code",
      "metadata": {
        "id": "asWqmIWi_RI7",
        "colab_type": "code",
        "colab": {}
      },
      "source": [
        "def document_classifier(image_name):\n",
        "\n",
        "  image = cv2.imread(image_name)\n",
        "  orig = image.copy()\n",
        "  (origH, origW) = image.shape[:2]\n",
        "  (H, W) = image.shape[:2]\n",
        "  (newW, newH) = (2560, 2560)\n",
        "  rW = W / float(newW)\n",
        "  rH = H / float(newH)\n",
        "  image = cv2.resize(image, (newW, newH))\n",
        "  (H, W) = image.shape[:2]\n",
        "  layerNames = [\n",
        "    \"feature_fusion/Conv_7/Sigmoid\",\n",
        "    \"feature_fusion/concat_3\"]\n",
        "\n",
        "  #net = cv2.dnn.readNet('frozen_east_text_detection.pb')# bahar lenna issko\n",
        "\n",
        "  blob = cv2.dnn.blobFromImage(image, 1.0, (W, H),\n",
        "    (123.68, 116.78, 103.94), swapRB=True, crop=False)\n",
        "\n",
        "  start = time.time()\n",
        "  net.setInput(blob)\n",
        "  (scores, geometry) = net.forward(layerNames)\n",
        "  end = time.time()\n",
        "\n",
        "  (numRows, numCols) = scores.shape[2:4]\n",
        "  rects = []\n",
        "  confidences = []\n",
        "\n",
        "  for y in range(0, numRows):\n",
        "    # extract the scores (probabilities), followed by the geometrical\n",
        "    # data used to derive potential bounding box coordinates that\n",
        "    # surround text\n",
        "    scoresData = scores[0, 0, y]\n",
        "    xData0 = geometry[0, 0, y]\n",
        "    xData1 = geometry[0, 1, y]\n",
        "    xData2 = geometry[0, 2, y]\n",
        "    xData3 = geometry[0, 3, y]\n",
        "    anglesData = geometry[0, 4, y]\n",
        "\n",
        "    # loop over the number of columns\n",
        "    for x in range(0, numCols):\n",
        "      # if our score does not have sufficient probability, ignore it\n",
        "      if scoresData[x] < 0.5:\n",
        "        continue\n",
        "\n",
        "      # compute the offset factor as our resulting feature maps will\n",
        "      # be 4x smaller than the input image\n",
        "      (offsetX, offsetY) = (x * 4.0, y * 4.0)\n",
        "\n",
        "      # extract the rotation angle for the prediction and then\n",
        "      # compute the sin and cosine\n",
        "      angle = anglesData[x]\n",
        "      cos = np.cos(angle)\n",
        "      sin = np.sin(angle)\n",
        "\n",
        "      # use the geometry volume to derive the width and height of\n",
        "      # the bounding box\n",
        "      h = xData0[x] + xData2[x]\n",
        "      w = xData1[x] + xData3[x]\n",
        "\n",
        "      # compute both the starting and ending (x, y)-coordinates for\n",
        "      # the text prediction bounding box\n",
        "      endX = int(offsetX + (cos * xData1[x]) + (sin * xData2[x]))\n",
        "      endY = int(offsetY - (sin * xData1[x]) + (cos * xData2[x]))\n",
        "      startX = int(endX - w)\n",
        "      startY = int(endY - h)\n",
        "\n",
        "      # add the bounding box coordinates and probability score to\n",
        "      # our respective lists\n",
        "      rects.append((startX, startY, endX, endY))\n",
        "      confidences.append(scoresData[x])\n",
        "\n",
        "  boxes = non_max_suppression(np.array(rects), probs=confidences)\n",
        "\n",
        "  aj=[]\n",
        "\n",
        "  docsAndkeys = { 'NCT' : 'NCT', 'AUTHORITY' : 'LICENCE', \n",
        "                 'Cover' : 'GAPINCOVER','notifiable':'Proposal Form',\n",
        "                 'Motor':'REG DECLARATION','Regulations':'VLC',\n",
        "                 'vehicles':'Driving LICENCE 2',\n",
        "                 'Disc':'NCT-CERTIFICATE'}\n",
        "\n",
        "  for(startX, startY, endX, endY) in boxes:\n",
        "    startX = int(startX * rW)\n",
        "    startY =int(startY * rH)\n",
        "    endX = int(endX * rW)\n",
        "    endY = int(endY * rH)\n",
        "    dX = int((endX - startX) * 0.18)\n",
        "    dY = int((endY - startY) * 0.18)\n",
        "    startX = max(0, startX - dX)\n",
        "    startY = max(0, startY - dY)\n",
        "    endX = min(origW, endX + (dX * 2))\n",
        "    endY = min(origH, endY + (dY * 2))\n",
        "\n",
        "    cv2.rectangle(orig, (startX, startY), (endX, endY), (0, 255, 0), 2)\n",
        "    config = (\"-l eng --oem 1 --psm 7\")\n",
        "    copy = orig[startY:endY, startX:endX]\n",
        "    #plt.imshow(copy)\n",
        "    #plt.show()\n",
        "    text = pytesseract.image_to_string(copy, config=config)\n",
        "    aj.append(text)\n",
        "    #print(text)\n",
        "    if(len(aj) > 50):\n",
        "      break\n",
        "    #print(startX, startY, endX, endY)\n",
        "\n",
        "  \n",
        "  for key in docsAndkeys:\n",
        "    if any(key in s for s in aj):\n",
        "      print('yes ' + image_name +' Is '+ str(docsAndkeys[key]))\n",
        "      doc_class=docsAndkeys[key]\n",
        "      #directory=os.getcwd()+'/'+str(docsAndkeys[key])\n",
        "      #if not os.path.exists(directory):\n",
        "      #  os.makedirs(directory)\n",
        "      #shutil.move(os.getcwd()+'/'+image_name, directory)\n",
        "    #else: \n",
        "     # print('None' + str(docsAndkeys[key]) )\n",
        "  return(doc_class)"
      ],
      "execution_count": 0,
      "outputs": []
    },
    {
      "cell_type": "code",
      "metadata": {
        "id": "qQicdDw-N0IF",
        "colab_type": "code",
        "outputId": "9e0d75f5-9618-468b-da2b-f6f2c0780d32",
        "colab": {
          "base_uri": "https://localhost:8080/",
          "height": 35
        }
      },
      "source": [
        "rr=document_classifier('NCT-DOE.jpg')"
      ],
      "execution_count": 0,
      "outputs": [
        {
          "output_type": "stream",
          "text": [
            "yes NCT-DOE.jpg Is NCT\n"
          ],
          "name": "stdout"
        }
      ]
    },
    {
      "cell_type": "code",
      "metadata": {
        "id": "R54H1SSObElG",
        "colab_type": "code",
        "colab": {}
      },
      "source": [
        "################FINAL WALLA#############\n",
        "import numpy as np\n",
        "import cv2\n",
        "from cv2 import countNonZero\n",
        "from matplotlib import pyplot as plt\n",
        "from PIL import Image\n",
        "\n",
        "def signature_validator(image_name,doc_class):\n",
        "\n",
        "    crpIm = Image.open(image_name).convert('L')\n",
        "    \n",
        "    if doc_class=='GAPINCOVER':\n",
        "        croppedIm = crpIm.crop((300,1050,900,1200)) #signature - gap on cover\n",
        "    ####add here for other images with respective coordinates \n",
        "    #elif doc_class=='REG DECLARATION':\n",
        "        #croppedIm= crpIm.crop((,,,))\n",
        "               \n",
        "    image_pillow = np.array(croppedIm)\n",
        "    ret,thresh = cv2.threshold(image_pillow,80,255, cv2.THRESH_BINARY)#80 otherwise shades on scanned doc getting highlighted\n",
        "    \n",
        "    width, height = croppedIm.size\n",
        "    print(\"size of the image in number of pixels\",thresh.size)\n",
        "    print(\"non zero\",countNonZero(thresh))\n",
        "    imgplot = plt.imshow(thresh, 'gray')\n",
        "    plt.show()\n",
        "\n",
        "    Diffrence = thresh.size - countNonZero(thresh) \n",
        "    print(Diffrence)\n",
        "    if(Diffrence > 600):\n",
        "         valid  = True\n",
        "    else:\n",
        "         valid  = False\n",
        "    return(valid)\n"
      ],
      "execution_count": 0,
      "outputs": []
    },
    {
      "cell_type": "code",
      "metadata": {
        "id": "DcM43LF3S0SQ",
        "colab_type": "code",
        "outputId": "6bc7a68b-a172-4763-8ab9-7a4d7020993e",
        "colab": {
          "base_uri": "https://localhost:8080/",
          "height": 35
        }
      },
      "source": [
        "rr"
      ],
      "execution_count": 0,
      "outputs": [
        {
          "output_type": "execute_result",
          "data": {
            "text/plain": [
              "'NCT'"
            ]
          },
          "metadata": {
            "tags": []
          },
          "execution_count": 32
        }
      ]
    },
    {
      "cell_type": "code",
      "metadata": {
        "id": "cEIjHfvoaLkQ",
        "colab_type": "code",
        "outputId": "1e1e10b3-ef76-46fd-c2b6-9ed2968331f6",
        "colab": {
          "base_uri": "https://localhost:8080/",
          "height": 55
        }
      },
      "source": [
        "print(aj)"
      ],
      "execution_count": 0,
      "outputs": [
        {
          "output_type": "stream",
          "text": [
            "['', 'rBteic 7s!', '', 'Pslock nt', 'of vehicles fo', 'Utimber— 7', '', '', 'if-signaiwe~', 'J wormation- —', '7, 50Ukg |', '<12,000kg |', '| categories of v', '-50c.c. |', '_ Lirthir St', 'i drivers', '| which kk', '_ eamdlacha oh', '{from', 'i valid |', 'fi caiaduinaithe ;', \"' 45KmH |\", 'ieence iii', 'EUG Lt4-224', 'Jissuéd by', 'tic dmadnal id', '~0.16kWikg |.', 'kw |', 'f birth;', '25kWw |', '(Jissued Gr', '725c.c. |', '2\\\\900kg|', 'irtiumbcrt', '', '4476', 'TRECAND', '292071944 2', 'amScanner ~', 'sini f4', 'a eishinii J 3s', 'DL', 'Q7-17-12-.', '', '', '', '-| Scanned Wi', 'Co.', 'Off', 'fos', 'avVibuahe']\n"
          ],
          "name": "stdout"
        }
      ]
    },
    {
      "cell_type": "markdown",
      "metadata": {
        "id": "EfjuCP87aaW9",
        "colab_type": "text"
      },
      "source": [
        ""
      ]
    },
    {
      "cell_type": "markdown",
      "metadata": {
        "id": "APl5oYp0sAw7",
        "colab_type": "text"
      },
      "source": [
        "Put loop here  for multiple images :-\n",
        "read and path of those images in here "
      ]
    },
    {
      "cell_type": "code",
      "metadata": {
        "id": "Z3iotkHrZqyh",
        "colab_type": "code",
        "colab": {}
      },
      "source": [
        "image = cv2.imread('LICENCE.jpg')"
      ],
      "execution_count": 0,
      "outputs": []
    },
    {
      "cell_type": "code",
      "metadata": {
        "id": "6zKdDyQhE7D8",
        "colab_type": "code",
        "outputId": "1187025c-592a-40b6-829c-095f2b2a437d",
        "colab": {
          "base_uri": "https://localhost:8080/",
          "height": 35
        }
      },
      "source": [
        "type(image)"
      ],
      "execution_count": 0,
      "outputs": [
        {
          "output_type": "execute_result",
          "data": {
            "text/plain": [
              "numpy.ndarray"
            ]
          },
          "metadata": {
            "tags": []
          },
          "execution_count": 34
        }
      ]
    },
    {
      "cell_type": "code",
      "metadata": {
        "id": "IOIlwiUfExx6",
        "colab_type": "code",
        "colab": {}
      },
      "source": [
        "orig = image.copy()"
      ],
      "execution_count": 0,
      "outputs": []
    },
    {
      "cell_type": "code",
      "metadata": {
        "id": "n9nc5cMqRp-8",
        "colab_type": "code",
        "colab": {}
      },
      "source": [
        "(origH, origW) = image.shape[:2]"
      ],
      "execution_count": 0,
      "outputs": []
    },
    {
      "cell_type": "code",
      "metadata": {
        "id": "wma2U0ulE398",
        "colab_type": "code",
        "colab": {}
      },
      "source": [
        "(H, W) = image.shape[:2]"
      ],
      "execution_count": 0,
      "outputs": []
    },
    {
      "cell_type": "code",
      "metadata": {
        "id": "-CzrcDrBFpr3",
        "colab_type": "code",
        "colab": {}
      },
      "source": [
        "(newW, newH) = (2560, 2560)\n",
        "rW = W / float(newW)\n",
        "rH = H / float(newH)"
      ],
      "execution_count": 0,
      "outputs": []
    },
    {
      "cell_type": "code",
      "metadata": {
        "id": "0jgaP6z_FrTh",
        "colab_type": "code",
        "colab": {}
      },
      "source": [
        "image = cv2.resize(image, (newW, newH))\n",
        "(H, W) = image.shape[:2]"
      ],
      "execution_count": 0,
      "outputs": []
    },
    {
      "cell_type": "code",
      "metadata": {
        "id": "dNzFbAZPF308",
        "colab_type": "code",
        "colab": {}
      },
      "source": [
        "layerNames = [\n",
        "\t\"feature_fusion/Conv_7/Sigmoid\",\n",
        "\t\"feature_fusion/concat_3\"]"
      ],
      "execution_count": 0,
      "outputs": []
    },
    {
      "cell_type": "code",
      "metadata": {
        "id": "iehqYpDTF5nj",
        "colab_type": "code",
        "colab": {}
      },
      "source": [
        "print(\"[INFO] loading EAST text detector...\")\n"
      ],
      "execution_count": 0,
      "outputs": []
    },
    {
      "cell_type": "code",
      "metadata": {
        "id": "o03Fz8olF7Vk",
        "colab_type": "code",
        "colab": {}
      },
      "source": [
        "net = cv2.dnn.readNet('frozen_east_text_detection.pb')"
      ],
      "execution_count": 0,
      "outputs": []
    },
    {
      "cell_type": "code",
      "metadata": {
        "id": "JLrfW0x0H0uL",
        "colab_type": "code",
        "colab": {}
      },
      "source": [
        "blob = cv2.dnn.blobFromImage(image, 1.0, (W, H),\n",
        "\t(123.68, 116.78, 103.94), swapRB=True, crop=False)\n"
      ],
      "execution_count": 0,
      "outputs": []
    },
    {
      "cell_type": "code",
      "metadata": {
        "id": "pzzOWU7ptJsh",
        "colab_type": "code",
        "colab": {}
      },
      "source": [
        "start = time.time()\n",
        "net.setInput(blob)\n",
        "(scores, geometry) = net.forward(layerNames)\n",
        "end = time.time()"
      ],
      "execution_count": 0,
      "outputs": []
    },
    {
      "cell_type": "code",
      "metadata": {
        "id": "BFKWgM2hH9PG",
        "colab_type": "code",
        "colab": {}
      },
      "source": [
        "print(\"[INFO] text detection took {:.6f} seconds\".format(end - start))"
      ],
      "execution_count": 0,
      "outputs": []
    },
    {
      "cell_type": "code",
      "metadata": {
        "id": "MlIMg_IzIBFG",
        "colab_type": "code",
        "colab": {}
      },
      "source": [
        "(numRows, numCols) = scores.shape[2:4]\n",
        "rects = []\n",
        "confidences = []"
      ],
      "execution_count": 0,
      "outputs": []
    },
    {
      "cell_type": "code",
      "metadata": {
        "id": "RvHTfs3MIDs0",
        "colab_type": "code",
        "colab": {}
      },
      "source": [
        "for y in range(0, numRows):\n",
        "\t# extract the scores (probabilities), followed by the geometrical\n",
        "\t# data used to derive potential bounding box coordinates that\n",
        "\t# surround text\n",
        "\tscoresData = scores[0, 0, y]\n",
        "\txData0 = geometry[0, 0, y]\n",
        "\txData1 = geometry[0, 1, y]\n",
        "\txData2 = geometry[0, 2, y]\n",
        "\txData3 = geometry[0, 3, y]\n",
        "\tanglesData = geometry[0, 4, y]\n",
        "\n",
        "\t# loop over the number of columns\n",
        "\tfor x in range(0, numCols):\n",
        "\t\t# if our score does not have sufficient probability, ignore it\n",
        "\t\tif scoresData[x] < 0.5:\n",
        "\t\t\tcontinue\n",
        "\n",
        "\t\t# compute the offset factor as our resulting feature maps will\n",
        "\t\t# be 4x smaller than the input image\n",
        "\t\t(offsetX, offsetY) = (x * 4.0, y * 4.0)\n",
        "\n",
        "\t\t# extract the rotation angle for the prediction and then\n",
        "\t\t# compute the sin and cosine\n",
        "\t\tangle = anglesData[x]\n",
        "\t\tcos = np.cos(angle)\n",
        "\t\tsin = np.sin(angle)\n",
        "\n",
        "\t\t# use the geometry volume to derive the width and height of\n",
        "\t\t# the bounding box\n",
        "\t\th = xData0[x] + xData2[x]\n",
        "\t\tw = xData1[x] + xData3[x]\n",
        "\n",
        "\t\t# compute both the starting and ending (x, y)-coordinates for\n",
        "\t\t# the text prediction bounding box\n",
        "\t\tendX = int(offsetX + (cos * xData1[x]) + (sin * xData2[x]))\n",
        "\t\tendY = int(offsetY - (sin * xData1[x]) + (cos * xData2[x]))\n",
        "\t\tstartX = int(endX - w)\n",
        "\t\tstartY = int(endY - h)\n",
        "\n",
        "\t\t# add the bounding box coordinates and probability score to\n",
        "\t\t# our respective lists\n",
        "\t\trects.append((startX, startY, endX, endY))\n",
        "\t\tconfidences.append(scoresData[x])"
      ],
      "execution_count": 0,
      "outputs": []
    },
    {
      "cell_type": "code",
      "metadata": {
        "id": "Hlg6lpfRIGya",
        "colab_type": "code",
        "colab": {}
      },
      "source": [
        "boxes = non_max_suppression(np.array(rects), probs=confidences)"
      ],
      "execution_count": 0,
      "outputs": []
    },
    {
      "cell_type": "code",
      "metadata": {
        "id": "45ZmpfpQqjUD",
        "colab_type": "code",
        "colab": {}
      },
      "source": [
        "import matplotlib.pyplot as plt\n",
        "aj=[]\n",
        "iff=[]"
      ],
      "execution_count": 0,
      "outputs": []
    },
    {
      "cell_type": "code",
      "metadata": {
        "id": "hOqYrjxcBw2x",
        "colab_type": "code",
        "outputId": "16a40563-dbdb-4232-dc34-d71f13b023e6",
        "colab": {
          "base_uri": "https://localhost:8080/",
          "height": 497
        }
      },
      "source": [
        "for(startX, startY, endX, endY) in boxes:\n",
        "  startX = int(startX * rW)\n",
        "  startY =int(startY * rH)\n",
        "  endX = int(endX * rW)\n",
        "  endY = int(endY * rH)\n",
        "  dX = int((endX - startX) * 0.18)\n",
        "  dY = int((endY - startY) * 0.18)\n",
        "  startX = max(0, startX - dX)\n",
        "  startY = max(0, startY - dY)\n",
        "  endX = min(origW, endX + (dX * 2))\n",
        "  endY = min(origH, endY + (dY * 2))\n",
        "  \n",
        "  cv2.rectangle(orig, (startX, startY), (endX, endY), (0, 255, 0), 2)\n",
        "  config = (\"-l eng --oem 1 --psm 7\")\n",
        "  copy = orig[startY:endY, startX:endX]\n",
        "  #plt.imshow(copy)\n",
        "  #plt.show()\n",
        "  text = pytesseract.image_to_string(copy, config=config)\n",
        "  aj.append(text)\n",
        "  print(text)\n",
        "  #print(startX, startY, endX, endY)"
      ],
      "execution_count": 0,
      "outputs": [
        {
          "output_type": "stream",
          "text": [
            "i5 ENGLAND\n",
            "| SAFETY Al\n",
            "\"Y AUTHORITY\n",
            "1. 270131712\n",
            "IDAN<<<<Z01<0100UA\n",
            "BH CEADUNAS TIOI\n",
            "D<SHERIDA\n",
            "; O100UA22SV.\n",
            "IRELAND |\n",
            "STIOMANA DR\n",
            "BRER,KELLS,\n",
            "RIVING LICENCE.\n",
            "<0100UA22S015_ |\n",
            "FIRE\n",
            "ROAM S,\n",
            "i\n",
            "\n",
            "\n",
            "02.07.\n",
            "\n",
            "12 {5 E\n",
            "Orr\n",
            "bb\n",
            "4a.\n",
            "(AC.\n",
            "Reena iy.\n",
            "An\n"
          ],
          "name": "stdout"
        }
      ]
    },
    {
      "cell_type": "code",
      "metadata": {
        "id": "jVQkXlX7IgGs",
        "colab_type": "code",
        "colab": {}
      },
      "source": [
        "from matplotlib import pyplot as plt"
      ],
      "execution_count": 0,
      "outputs": []
    },
    {
      "cell_type": "code",
      "metadata": {
        "id": "b4gQTN5RIYP3",
        "colab_type": "code",
        "outputId": "eba01f9a-c1c2-49a4-f164-88d35864bb6b",
        "colab": {
          "base_uri": "https://localhost:8080/",
          "height": 269
        }
      },
      "source": [
        "plt.imshow(orig)\n",
        "plt.show()"
      ],
      "execution_count": 0,
      "outputs": [
        {
          "output_type": "display_data",
          "data": {
            "image/png": "[encoded data removed]",
            "text/plain": [
              "<Figure size 432x288 with 1 Axes>"
            ]
          },
          "metadata": {
            "tags": []
          }
        }
      ]
    },
    {
      "cell_type": "code",
      "metadata": {
        "id": "ozrqAcpNIae7",
        "colab_type": "code",
        "outputId": "62616d8a-caa3-4e09-9f9d-e26b26b51bd3",
        "colab": {
          "base_uri": "https://localhost:8080/",
          "height": 72
        }
      },
      "source": [
        "print(aj)\n",
        "type(aj)"
      ],
      "execution_count": 0,
      "outputs": [
        {
          "output_type": "stream",
          "text": [
            "['i5 ENGLAND', '| SAFETY Al', '\"Y AUTHORITY', '1. 270131712', 'IDAN<<<<Z01<0100UA', 'BH CEADUNAS TIOI', 'D<SHERIDA', '; O100UA22SV.', 'IRELAND |', 'STIOMANA DR', 'BRER,KELLS,', 'RIVING LICENCE.', '<0100UA22S015_ |', 'FIRE', 'ROAM S,', 'i', '', '', '02.07.', '', '12 {5 E', 'Orr', 'bb', '4a.', '(AC.', 'Reena iy.', 'An']\n"
          ],
          "name": "stdout"
        },
        {
          "output_type": "execute_result",
          "data": {
            "text/plain": [
              "list"
            ]
          },
          "metadata": {
            "tags": []
          },
          "execution_count": 49
        }
      ]
    },
    {
      "cell_type": "code",
      "metadata": {
        "id": "0obFqXncxhZl",
        "colab_type": "code",
        "colab": {}
      },
      "source": [
        "docsAndkeys = { 'NCT' : 'NCT', 'AUTHORITY' : 'LICENCE', 'Cover' : 'GAPINCOVER'} \n",
        "#aj=['last f', '» this \\\\', 'y accident,-cle', '/ ended, e', 'ir pending pr', 'been i', 'that |', 'has ;', 'ysince _', 'drive ¢', '‘held r', 'who 1', '| declare th', 't noted o', 'or insuranceisin', 'not |', ') any f', '-claim, |', 'on', '| rnotor ir', 'No |', 'have r', 'Cover D', 'has |', 'convictions cr |', 'Date:', 'er Declaration —', 'J prosecutions sin', 'will', '; since', '; vehicle hz', 'the |', '| form.', 'n involved in', 't policy e', '/ points,', 'lany é', '“because. _', 'in,', 'or', 'o i9erson WI', '> proposal for', 'y nenalty pc', 'Gap i', ', except ne', 'Signed: .', 'my |', 'in', '', '', '', 'i tes hb', \"CGS '\"]"
      ],
      "execution_count": 0,
      "outputs": []
    },
    {
      "cell_type": "code",
      "metadata": {
        "id": "KRNjjrE5y96L",
        "colab_type": "code",
        "outputId": "f2fcebaa-27ea-4a86-b17c-9435b110a69b",
        "colab": {
          "base_uri": "https://localhost:8080/",
          "height": 88
        }
      },
      "source": [
        "for x in docsAndkeys:\n",
        "  if any(x in s for s in aj):\n",
        "    print('yes')\n",
        "      \n",
        "    print(docsAndkeys[x])\n",
        "  else: \n",
        "    print('no')\n"
      ],
      "execution_count": 0,
      "outputs": [
        {
          "output_type": "stream",
          "text": [
            "no\n",
            "yes\n",
            "LICENCE\n",
            "no\n"
          ],
          "name": "stdout"
        }
      ]
    },
    {
      "cell_type": "code",
      "metadata": {
        "id": "u8xZj6cJqCCn",
        "colab_type": "code",
        "outputId": "04db3ca3-f369-42d1-b36c-f71fc6303973",
        "colab": {
          "base_uri": "https://localhost:8080/",
          "height": 88
        }
      },
      "source": [
        "import shutil\n",
        "import os \n",
        "for key in docsAndkeys:\n",
        "  if any(key in s for s in aj):\n",
        "    print('yes  ' + str(docsAndkeys[key]))\n",
        "    directory=os.getcwd()+'/'+str(docsAndkeys[key])\n",
        "    if not os.path.exists(directory):\n",
        "      os.makedirs(directory)\n",
        "    shutil.move(os.getcwd()+'/'+\"Licence.jpg\", directory)\n",
        "    print(docsAndkeys[key])\n",
        "  else: \n",
        "    print('not a  ' + str(docsAndkeys[key]) )"
      ],
      "execution_count": 0,
      "outputs": [
        {
          "output_type": "stream",
          "text": [
            "not a  NCT\n",
            "yes  LICENCE\n",
            "LICENCE\n",
            "not a  GAPINCOVER\n"
          ],
          "name": "stdout"
        }
      ]
    },
    {
      "cell_type": "code",
      "metadata": {
        "id": "uEyVTEIVqmFx",
        "colab_type": "code",
        "colab": {}
      },
      "source": [
        "from google.colab import drive\n",
        "drive.mount('/content/drive')"
      ],
      "execution_count": 0,
      "outputs": []
    },
    {
      "cell_type": "code",
      "metadata": {
        "id": "A43QpN1iKjyo",
        "colab_type": "code",
        "outputId": "600e7461-61f0-4c7b-f507-3c55f5c57246",
        "colab": {
          "base_uri": "https://localhost:8080/",
          "height": 35
        }
      },
      "source": [
        "import shutil\n",
        "  \n",
        "shutil.move(\"/content/drive/My Drive/data/car_wash.png\", '/content/drive/My Drive/data/classified/'+str(dk[0]))\n",
        "\n"
      ],
      "execution_count": 0,
      "outputs": [
        {
          "output_type": "execute_result",
          "data": {
            "text/plain": [
              "'/content/drive/My Drive/data/classified/GAPINCOVER/car_wash.png'"
            ]
          },
          "metadata": {
            "tags": []
          },
          "execution_count": 21
        }
      ]
    },
    {
      "cell_type": "code",
      "metadata": {
        "id": "MudnMpddrFHk",
        "colab_type": "code",
        "colab": {}
      },
      "source": [
        "dk=['GAPR']"
      ],
      "execution_count": 0,
      "outputs": []
    },
    {
      "cell_type": "code",
      "metadata": {
        "id": "E2vMBdnE082t",
        "colab_type": "code",
        "colab": {}
      },
      "source": [
        "directory='/content/drive/My Drive/data/classified/'+str(dk[0])\n",
        "if not os.path.exists(directory):\n",
        "    os.makedirs(directory)"
      ],
      "execution_count": 0,
      "outputs": []
    },
    {
      "cell_type": "code",
      "metadata": {
        "id": "wLf8vkWLr-3n",
        "colab_type": "code",
        "outputId": "49e290a0-3dad-4dc8-ee3a-b81a0c175b18",
        "colab": {
          "base_uri": "https://localhost:8080/",
          "height": 35
        }
      },
      "source": [
        "\n",
        "import os\n",
        "\n",
        "print(os.getcwd()+'/'+\"LICENCE.jpg\")"
      ],
      "execution_count": 0,
      "outputs": [
        {
          "output_type": "stream",
          "text": [
            "/content/drive/My Drive/data/LICENCE.jpg\n"
          ],
          "name": "stdout"
        }
      ]
    }
  ]
}